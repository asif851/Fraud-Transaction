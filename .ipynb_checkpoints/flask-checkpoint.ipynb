{
 "cells": [
  {
   "cell_type": "code",
   "execution_count": null,
   "id": "9f53c6a1",
   "metadata": {},
   "outputs": [],
   "source": [
    "from flask import Flask, request\n",
    "import numpy as np\n",
    "import pickle\n",
    "import pandas as pd\n",
    "import flasgger\n",
    "from flasgger import Swagger\n",
    "\n",
    "app=Flask(__name__)\n",
    "Swagger(app)\n",
    "\n",
    "pickle_in = open(\"classifier.pkl\",\"rb\")\n",
    "classifier=pickle.load(pickle_in)\n",
    "\n",
    "@app.route('/')\n",
    "def welcome():\n",
    "    return \"Welcome All\"\n",
    "\n",
    "@app.route('/predict',methods=[\"Get\"])\n",
    "def predict_note_authentication():\n",
    "    \n",
    "    \"\"\"Let's Authenticate the Banks Note \n",
    "    This is using docstrings for specifications.\n",
    "    ---\n",
    "    parameters:  \n",
    "      - name: variance\n",
    "        in: query\n",
    "        type: number\n",
    "        required: true\n",
    "      - name: skewness\n",
    "        in: query\n",
    "        type: number\n",
    "        required: true\n",
    "      - name: curtosis\n",
    "        in: query\n",
    "        type: number\n",
    "        required: true\n",
    "      - name: entropy\n",
    "        in: query\n",
    "        type: number\n",
    "        required: true\n",
    "    responses:\n",
    "        200:\n",
    "            description: The output values\n",
    "        \n",
    "    \"\"\"\n",
    "    variance=request.args.get(\"variance\")\n",
    "    skewness=request.args.get(\"skewness\")\n",
    "    curtosis=request.args.get(\"curtosis\")\n",
    "    entropy=request.args.get(\"entropy\")\n",
    "    prediction=classifier.predict([[variance,skewness,curtosis,entropy]])\n",
    "    print(prediction)\n",
    "    return \"Hello The answer is\"+str(prediction)\n",
    "\n",
    "if __name__=='__main__':\n",
    "    app.run(host='0.0.0.0',port=8000)"
   ]
  },
  {
   "cell_type": "code",
   "execution_count": null,
   "id": "7c3c4aaa",
   "metadata": {},
   "outputs": [],
   "source": []
  },
  {
   "cell_type": "code",
   "execution_count": null,
   "id": "5b323a5c",
   "metadata": {},
   "outputs": [],
   "source": []
  }
 ],
 "metadata": {
  "kernelspec": {
   "display_name": "Python 3 (ipykernel)",
   "language": "python",
   "name": "python3"
  },
  "language_info": {
   "codemirror_mode": {
    "name": "ipython",
    "version": 3
   },
   "file_extension": ".py",
   "mimetype": "text/x-python",
   "name": "python",
   "nbconvert_exporter": "python",
   "pygments_lexer": "ipython3",
   "version": "3.9.6"
  }
 },
 "nbformat": 4,
 "nbformat_minor": 5
}
